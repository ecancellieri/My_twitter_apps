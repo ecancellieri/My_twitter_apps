{
 "cells": [
  {
   "cell_type": "code",
   "execution_count": null,
   "metadata": {},
   "outputs": [],
   "source": [
    "import os\n",
    "import re\n",
    "import time\n",
    "import requests\n",
    "import itertools\n",
    "import numpy as np\n",
    "import pandas as pd\n",
    "\n",
    "from wordcloud import WordCloud, STOPWORDS, ImageColorGenerator\n",
    "\n",
    "import matplotlib.pyplot as plt\n",
    "%matplotlib inline\n",
    "\n",
    "from graphviz import *\n",
    "os.environ[\"PATH\"] += os.pathsep + 'C:/Program Files (x86)/Graphviz2.38/bin/'\n",
    "\n",
    "from IPython.core.display import display, HTML\n",
    "display(HTML(\"<style>.container { width:100% !important; }</style>\"))\n"
   ]
  },
  {
   "cell_type": "code",
   "execution_count": null,
   "metadata": {},
   "outputs": [],
   "source": [
    "def load_dfs(word_list, date):\n",
    "    df = pd.DataFrame()\n",
    "    for word in word_list:\n",
    "        dfaux = pd.read_csv( date +'\\/' + word + '.csv'     )\n",
    "        dfaux['word'] = word\n",
    "        df = df.append(dfaux)\n",
    "    return df.reset_index(drop=True)\n",
    "\n",
    "\n",
    "def get_hashtag(string):\n",
    "    return re.findall(r'\\#\\w+', string)\n",
    "\n",
    "\n",
    "def get_intersection(lst1, lst2):\n",
    "    return list(set(lst1) & set(lst2))\n",
    "\n",
    "\n",
    "def build_graph(word_list,edges,filename):\n",
    "#    g = Digraph('G', filename=filename + '.gv', engine='sfdp', format='png')\n",
    "    g = Graph(  'G', filename=filename + '.gv', engine='sfdp', format='png')\n",
    "\n",
    "    for node in word_list:\n",
    "        g.node(node)\n",
    "    for edge in edges:\n",
    "        g.edge(edge[0],edge[1], len='2.00')\n",
    "    return g\n",
    "\n",
    "\n",
    "def get_directional_edges(df, combos):\n",
    "    edges     = []\n",
    "    for pair in combos:\n",
    "        len1 = len(df[(df['word'] == pair[0]) & df['tweet.text'].str.contains('#' + pair[1])])\n",
    "        len2 = len(df[(df['word'] == pair[1]) & df['tweet.text'].str.contains('#' + pair[0])])\n",
    "        if len1 > len2:\n",
    "            edges.append((pair[0],pair[1]))\n",
    "        else:\n",
    "            edges.append((pair[1],pair[0]))        \n",
    "    return edges\n",
    "\n",
    "\n",
    "def get_nodes_edges_treshold(df, nnodes, threshold):\n",
    "    # gets the list of the nnodes most used hashtags in the df\n",
    "    # this is the list of nodes one wants in the graph\n",
    "    dfaux      = df.copy()\n",
    "    dfaux['#'] = dfaux.apply(lambda x: get_hashtag(x['tweet.text']), 1)\n",
    "    merged     = pd.Series(list(itertools.chain(*dfaux['#'].tolist()))).value_counts()[0:nnodes]\n",
    "\n",
    "    # for each of these hashtags (nodes) filters the df rows containing that hashtag\n",
    "    # and check which other hashtags are presente in the filtered df\n",
    "    # finally it counts the number of tweets with the second hashtag and check\n",
    "    # if a threshold is passed (this identify the edges).\n",
    "    edges = []\n",
    "    for node in merged.keys():\n",
    "        aux   = list(itertools.chain(*(dfaux[dfaux['tweet.text'].str.contains(node)]['#'].tolist())))\n",
    "        aux   = get_intersection(merged.keys(),aux)\n",
    "        aux.remove(node)\n",
    "        for a in aux:\n",
    "            if ((node[1:],a[1:]) not in edges) and ((a[1:],node[1:]) not in edges):\n",
    "                if len(dfaux[dfaux['tweet.text'].str.contains(a)]) > threshold:\n",
    "                    edges.append((node[1:],a[1:]))\n",
    "    nodes = [x[1:] for x in merged.keys()]\n",
    "    return nodes, edges\n",
    "\n",
    "\n",
    "def clean_url(url):\n",
    "    if '.ly/' in url:\n",
    "        try:\n",
    "            site = requests.get(url)\n",
    "            return site.url\n",
    "        except:\n",
    "            return url\n",
    "    else:\n",
    "        return url\n",
    "\n",
    "\n",
    "def get_list_of_hashtags(df):\n",
    "    dfaux      = df.copy()\n",
    "    dfaux['#'] = dfaux.apply(lambda x: get_hashtag(x['tweet.text']), 1)\n",
    "    merged     = pd.Series(list(itertools.chain(*dfaux['#'].tolist()))).value_counts()\n",
    "    return merged.keys()\n"
   ]
  },
  {
   "cell_type": "markdown",
   "metadata": {},
   "source": [
    "# Graph with words in \"semantic circle\""
   ]
  },
  {
   "cell_type": "code",
   "execution_count": null,
   "metadata": {},
   "outputs": [],
   "source": [
    "word_list = ['furniture', 'homedecor', 'interiordesign']\n",
    "combos    = list(itertools.combinations(word_list,2))\n",
    "date      = '2019-10-15'\n",
    "\n",
    "df_tweets = load_dfs(word_list, date).fillna(0)\n",
    "edges     = get_directional_edges(df_tweets, combos)\n",
    "g         = build_graph(word_list,edges,'test_0.1')\n",
    "g\n",
    "#g.view()"
   ]
  },
  {
   "cell_type": "markdown",
   "metadata": {},
   "source": [
    "# Graph with more frequent hashtags "
   ]
  },
  {
   "cell_type": "code",
   "execution_count": null,
   "metadata": {},
   "outputs": [],
   "source": [
    "nnodes       = 10\n",
    "threshold    = 1000\n",
    "word_list = ['furniture', 'homedecor', 'interiordesign']\n",
    "\n",
    "df_tweets = load_dfs(word_list, date).fillna(0)\n",
    "df_tweets.drop_duplicates( subset=['tweet.id'], keep=False, inplace=True)\n",
    "nodes, edges = get_nodes_edges_treshold(df_tweets, nnodes, threshold)\n",
    "g            = build_graph(nodes,edges,'test_0.2')\n",
    "g\n",
    "g.view()"
   ]
  },
  {
   "cell_type": "markdown",
   "metadata": {},
   "source": [
    "# Cloud of words with most frequent words in tweets' texts"
   ]
  },
  {
   "cell_type": "code",
   "execution_count": null,
   "metadata": {},
   "outputs": [],
   "source": [
    "# Cloud of words from: https://www.datacamp.com/community/tutorials/wordcloud-python\n",
    "word_list = ['furniture', 'homedecor', 'interiordesign']\n",
    "df_tweets = load_dfs(word_list, date).fillna(0)\n",
    "df_tweets = df_tweets[df_tweets.duplicated(subset=['tweet.id'])].copy()\n",
    "text      = \" \".join(review for review in df_tweets['tweet.text'])\n",
    "\n",
    "stopwords = set(STOPWORDS)\n",
    "wordcloud = WordCloud(stopwords=stopwords,\n",
    "                      max_font_size=50,\n",
    "                      max_words=100,\n",
    "                      background_color=\"white\").generate(text)\n",
    "\n",
    "plt.figure(figsize=(15,7))\n",
    "plt.imshow(wordcloud, interpolation='bilinear')\n",
    "plt.axis(\"off\")\n",
    "plt.show()"
   ]
  },
  {
   "cell_type": "code",
   "execution_count": null,
   "metadata": {},
   "outputs": [],
   "source": [
    "wordcloud.to_file(\"first_words_cloud.png\")"
   ]
  },
  {
   "cell_type": "markdown",
   "metadata": {},
   "source": [
    "# Frequency of most frequent hashtags"
   ]
  },
  {
   "cell_type": "code",
   "execution_count": null,
   "metadata": {},
   "outputs": [],
   "source": [
    "word_list = ['furniture', 'homedecor', 'interiordesign']\n",
    "df_tweets                     = load_dfs(word_list, date).fillna(0)\n",
    "df_tweets                     = df_tweets[df_tweets.duplicated(subset=['tweet.id'])]\n",
    "df_tweets['tweet.created_at'] = pd.to_datetime(df_tweets['tweet.created_at'])\n",
    "df_tweets['time_buckets']     = df_tweets.apply(lambda x: x['tweet.created_at'].hour, 1)\n",
    "\n",
    "\n",
    "nhashtags = 10\n",
    "rows = []\n",
    "hashtag_list = get_list_of_hashtags(df_tweets)\n",
    "for hashtag in hashtag_list[0:nhashtags]:\n",
    "    for h in range(24):\n",
    "        aux = df_tweets[(df_tweets['time_buckets'] == h) & (df_tweets['tweet.text'].str.contains(hashtag))]\n",
    "        row = [hashtag,h,len(aux)]\n",
    "        rows.append(row)\n",
    "\n",
    "\n",
    "df_freq = pd.DataFrame(rows)\n",
    "df_freq = df_freq.rename({0: 'hashtag', 1: 'hour', 2: 'frequency'}, axis='columns')\n",
    "\n",
    "plt.figure(figsize=(15,10))\n",
    "\n",
    "for hashtag in merged.keys():\n",
    "    plt.plot(np.arange(24),df_freq[df_freq['hashtag'] == hashtag]['frequency'], label=hashtag)\n",
    "plt.ylabel('# of Tweets with hashtag')\n",
    "plt.xlabel('Time of day')\n",
    "plt.legend()\n",
    "plt.show()"
   ]
  }
 ],
 "metadata": {
  "kernelspec": {
   "display_name": "Python 3",
   "language": "python",
   "name": "python3"
  },
  "language_info": {
   "codemirror_mode": {
    "name": "ipython",
    "version": 3
   },
   "file_extension": ".py",
   "mimetype": "text/x-python",
   "name": "python",
   "nbconvert_exporter": "python",
   "pygments_lexer": "ipython3",
   "version": "3.7.4"
  }
 },
 "nbformat": 4,
 "nbformat_minor": 2
}
